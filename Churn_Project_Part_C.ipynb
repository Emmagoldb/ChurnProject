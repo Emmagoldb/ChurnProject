{
  "cells": [
    {
      "cell_type": "markdown",
      "metadata": {
        "id": "UcNFphpdJP_V"
      },
      "source": [
        "### Churn Project - Part C"
      ]
    },
    {
      "cell_type": "code",
      "execution_count": null,
      "metadata": {
        "colab": {
          "base_uri": "https://localhost:8080/"
        },
        "id": "AKgjdVNRKaEq",
        "outputId": "73342981-8fcf-4143-a3b2-9d535e99e4c9"
      },
      "outputs": [
        {
          "name": "stdout",
          "output_type": "stream",
          "text": [
            "\u001b[33m\r0% [Working]\u001b[0m\r            \rGet:1 https://cloud.r-project.org/bin/linux/ubuntu jammy-cran40/ InRelease [3,626 B]\n",
            "\u001b[33m\r0% [Waiting for headers] [Waiting for headers] [1 InRelease 3,626 B/3,626 B 100%] [Connected to ppa.\u001b[0m\u001b[33m\r0% [Waiting for headers] [Waiting for headers] [Connected to ppa.launchpadcontent.net (185.125.190.8\u001b[0m\r                                                                                                    \rGet:2 https://developer.download.nvidia.com/compute/cuda/repos/ubuntu2204/x86_64  InRelease [1,581 B]\n",
            "\u001b[33m\r0% [Waiting for headers] [Waiting for headers] [Connected to ppa.launchpadcontent.net (185.125.190.8\u001b[0m\r                                                                                                    \rGet:3 http://security.ubuntu.com/ubuntu jammy-security InRelease [129 kB]\n",
            "Hit:4 http://archive.ubuntu.com/ubuntu jammy InRelease\n",
            "Get:5 http://archive.ubuntu.com/ubuntu jammy-updates InRelease [128 kB]\n",
            "Hit:6 https://ppa.launchpadcontent.net/c2d4u.team/c2d4u4.0+/ubuntu jammy InRelease\n",
            "Hit:7 https://ppa.launchpadcontent.net/deadsnakes/ppa/ubuntu jammy InRelease\n",
            "Hit:8 https://ppa.launchpadcontent.net/graphics-drivers/ppa/ubuntu jammy InRelease\n",
            "Hit:9 https://ppa.launchpadcontent.net/ubuntugis/ppa/ubuntu jammy InRelease\n",
            "Get:10 http://archive.ubuntu.com/ubuntu jammy-backports InRelease [127 kB]\n",
            "Get:11 https://developer.download.nvidia.com/compute/cuda/repos/ubuntu2204/x86_64  Packages [973 kB]\n",
            "Get:12 http://archive.ubuntu.com/ubuntu jammy-updates/universe amd64 Packages [1,402 kB]\n",
            "Get:13 http://archive.ubuntu.com/ubuntu jammy-updates/main amd64 Packages [2,255 kB]\n",
            "Fetched 5,020 kB in 7s (764 kB/s)\n",
            "Reading package lists... Done\n",
            "Building dependency tree... Done\n",
            "Reading state information... Done\n",
            "45 packages can be upgraded. Run 'apt list --upgradable' to see them.\n"
          ]
        }
      ],
      "source": [
        "!apt update\n",
        "!apt-get install openjdk-8-jdk-headless -qq > /dev/null\n",
        "!wget -q https://dlcdn.apache.org/spark/spark-3.5.1/spark-3.5.1-bin-hadoop3.tgz\n",
        "!tar xf spark-3.5.1-bin-hadoop3.tgz\n",
        "!pip install -q findspark\n",
        "\n",
        "import os\n",
        "os.environ[\"JAVA_HOME\"] = \"/usr/lib/jvm/java-8-openjdk-amd64\"\n",
        "os.environ[\"SPARK_HOME\"] = \"/content/spark-3.5.1-bin-hadoop3\"\n",
        "\n",
        "import findspark\n",
        "findspark.init(\"spark-3.5.1-bin-hadoop3\")\n",
        "from pyspark.sql import SparkSession\n",
        "\n",
        "spark = SparkSession.builder.master(\"local[*]\").getOrCreate()\n",
        "from pyspark.sql import Row\n",
        "from pyspark.sql import functions\n"
      ]
    },
    {
      "cell_type": "code",
      "execution_count": null,
      "metadata": {
        "id": "iNw1YeitKthp"
      },
      "outputs": [],
      "source": [
        "spark = SparkSession.builder.getOrCreate()"
      ]
    },
    {
      "cell_type": "code",
      "execution_count": null,
      "metadata": {
        "colab": {
          "base_uri": "https://localhost:8080/"
        },
        "id": "G56vPzFPKte3",
        "outputId": "46233da4-61ea-438f-9970-59448e1046d5"
      },
      "outputs": [
        {
          "name": "stdout",
          "output_type": "stream",
          "text": [
            "Mounted at /content/drive\n"
          ]
        }
      ],
      "source": [
        "from google.colab import drive\n",
        "drive.mount('/content/drive')"
      ]
    },
    {
      "cell_type": "code",
      "execution_count": null,
      "metadata": {
        "colab": {
          "base_uri": "https://localhost:8080/"
        },
        "id": "lpVYpyOaJO_v",
        "outputId": "fcec153e-1c25-48a1-c6ae-af1e1ce4dcde"
      },
      "outputs": [
        {
          "name": "stdout",
          "output_type": "stream",
          "text": [
            "appl_stock.csv\t\t       NORTHWND_ord.csv  rating_df.csv\t walmart_stock.csv\n",
            "churn_location_and_rating.csv  people.json\t sales_info.csv\n"
          ]
        }
      ],
      "source": [
        "path = \"/content/drive/MyDrive/BDA spark witty\"\n",
        "!ls \"/content/drive/MyDrive/BDA spark witty\""
      ]
    },
    {
      "cell_type": "code",
      "execution_count": null,
      "metadata": {
        "id": "Twtnmfq6JYIO"
      },
      "outputs": [],
      "source": [
        "from pyspark.sql import SparkSession\n",
        "from pyspark.sql.types import StructType, StructField, StringType, FloatType, IntegerType\n",
        "from pyspark.sql.functions import udf, col, cast, when, lit, count, isnull, trim, countDistinct, avg, format_number, regexp_replace"
      ]
    },
    {
      "cell_type": "code",
      "execution_count": null,
      "metadata": {
        "id": "zsfUEPybJhbR"
      },
      "outputs": [],
      "source": [
        "df = spark.read.csv(path + '/churn_location_and_rating.csv',header = True, inferSchema = True)"
      ]
    },
    {
      "cell_type": "code",
      "execution_count": null,
      "metadata": {
        "id": "cVIh1ra2Jhmr"
      },
      "outputs": [],
      "source": [
        "df.describe().show()"
      ]
    },
    {
      "cell_type": "code",
      "execution_count": null,
      "metadata": {
        "id": "g73IJpFop6VJ"
      },
      "outputs": [],
      "source": [
        "def split_row(row):\n",
        "\n",
        "  row_string = row[len('Row(customerID;Location;Rating='):-1]\n",
        "\n",
        "  values = [value.strip('\"') for value in row_string.split(';')]\n",
        "  return values\n",
        "\n",
        "new_df = [split_row(str(row)) for row in df.collect()]"
      ]
    },
    {
      "cell_type": "code",
      "execution_count": null,
      "metadata": {
        "id": "pkK1ZGQsp6Pr"
      },
      "outputs": [],
      "source": [
        "import pandas as pd\n",
        "\n",
        "pandas_df = pd.DataFrame(new_df)\n",
        "result = pandas_df.to_dict()\n",
        "rating_df = pd.DataFrame(result)\n",
        "rating_df = rating_df.rename(columns={0: 'customerid',\n",
        "                                      1: 'city',\n",
        "                                      2: 'state',\n",
        "                                      3: 'rating',\n",
        "                                      4: 'country',\n",
        "                                      5: 'extra_column'})\n",
        "rating_df['country_upper'] = rating_df['country'].str.upper()\n",
        "rating_df.head()"
      ]
    },
    {
      "cell_type": "code",
      "execution_count": null,
      "metadata": {
        "id": "6551z2BGDoKi"
      },
      "outputs": [],
      "source": [
        "rating_df = rating_df.drop(columns=['extra_column'])\n",
        "rating_df = rating_df.drop(columns=['country'])\n",
        "\n",
        "rating_df = rating_df.drop_duplicates([\"customerid\"])\n",
        "\n",
        "rating_df['customerid'] = rating_df['customerid'].str.replace('\"', '')\n",
        "rating_df['country_upper'] = rating_df['country_upper'].str.replace('\"', '')\n",
        "\n",
        "rating_df['customerid'] = rating_df['customerid'].str.replace(\"'\", '')\n",
        "rating_df['country_upper'] = rating_df['country_upper'].str.replace(\"'\", '')\n",
        "\n",
        "rating_df.rename(columns={'country_upper': 'country'}, inplace=True)\n",
        "\n",
        "rating_df.head()"
      ]
    },
    {
      "cell_type": "code",
      "execution_count": null,
      "metadata": {
        "id": "Z3_WIErhKLHu"
      },
      "outputs": [],
      "source": [
        "spark_df = spark.createDataFrame(rating_df)\n",
        "\n",
        "def clean_column(df, column_name):\n",
        "    df = df.withColumn(column_name,\n",
        "                       when((df[column_name].isNull()) |\n",
        "                            (df[column_name] == \"\") |\n",
        "                            (df[column_name] == \" \") |\n",
        "                            (df[column_name].rlike(r'\\b(?:n/a|[*]|[0-9])\\b')), \"unknown\")\n",
        "                       .otherwise(df[column_name]))\n",
        "\n",
        "    df = df.withColumn(column_name, regexp_replace(column_name, \"city\", \"\"))\n",
        "    df = df.withColumn(column_name, regexp_replace(column_name, \"-\", \" \"))\n",
        "\n",
        "    return df\n",
        "\n",
        "\n",
        "spark_df = clean_column(spark_df, \"city\")\n",
        "spark_df = clean_column(spark_df, \"state\")\n",
        "\n",
        "rating_df = spark_df.toPandas()\n",
        "rating_df.head(1000)"
      ]
    },
    {
      "cell_type": "code",
      "execution_count": null,
      "metadata": {
        "colab": {
          "background_save": true
        },
        "id": "ONSWnswgp6M2",
        "outputId": "1bbb63cf-0f8b-4068-bfb0-f40932eda0ec"
      },
      "outputs": [
        {
          "name": "stdout",
          "output_type": "stream",
          "text": [
            "Collecting pycountry\n",
            "  Downloading pycountry-24.6.1-py3-none-any.whl (6.3 MB)\n",
            "\u001b[2K     \u001b[90m━━━━━━━━━━━━━━━━━━━━━━━━━━━━━━━━━━━━━━━━\u001b[0m \u001b[32m6.3/6.3 MB\u001b[0m \u001b[31m13.8 MB/s\u001b[0m eta \u001b[36m0:00:00\u001b[0m\n",
            "\u001b[?25hInstalling collected packages: pycountry\n",
            "Successfully installed pycountry-24.6.1\n"
          ]
        }
      ],
      "source": [
        "!pip install pycountry\n",
        "import pycountry"
      ]
    },
    {
      "cell_type": "code",
      "execution_count": null,
      "metadata": {
        "colab": {
          "background_save": true
        },
        "id": "Jd5CAR9MKTJB",
        "outputId": "b3f0cce7-9037-4766-c448-b97f5b1c5c5d"
      },
      "outputs": [
        {
          "name": "stdout",
          "output_type": "stream",
          "text": [
            "+----------+--------------+----------------+------+-------+\n",
            "|customerid|          city|           state|rating|country|\n",
            "+----------+--------------+----------------+------+-------+\n",
            "|    id7044|           nyc|        new york|   9.0|    USA|\n",
            "|    id7045|      stockton|      california|   5.0|    USA|\n",
            "|    id7046|        moscow| yukon territory|   5.0|    RUS|\n",
            "|    id7047|         porto|        v.n.gaia|   9.0|    PRT|\n",
            "|    id7048|   farnborough|           hants|   8.0|    GBR|\n",
            "|    id7049|  santa monica|      california|  10.0|    USA|\n",
            "|    id7050|    washington|              dc|   3.0|    USA|\n",
            "|    id7051|       timmins|         ontario|   2.0|    CAN|\n",
            "|    id7052|    germantown|       tennessee|  10.0|    USA|\n",
            "|    id7053|      albacete|       wisconsin|  10.0|    ESP|\n",
            "|    id7054|     melbourne|        victoria|   3.0|    AUS|\n",
            "|    id7055|    fort bragg|      california|   6.0|    USA|\n",
            "|    id7056|     barcelona|       barcelona|   5.0|    ESP|\n",
            "|    id7057|    mediapolis|            iowa|   5.0|    USA|\n",
            "|    id7058|       calgary|         alberta|   6.0|    CAN|\n",
            "|    id7059|   albuquerque|      new mexico|   9.0|    USA|\n",
            "|    id7060|    chesapeake|        virginia|   6.0|    USA|\n",
            "|    id7061|rio de janeiro|  rio de janeiro|   8.0|    BRA|\n",
            "|    id7062|        weston|         unknown|   3.0|    GBR|\n",
            "|    id7063|     langhorne|    pennsylvania|   5.0|    USA|\n",
            "+----------+--------------+----------------+------+-------+\n",
            "only showing top 20 rows\n",
            "\n"
          ]
        }
      ],
      "source": [
        "rating_df_spark = spark.createDataFrame(rating_df)\n",
        "\n",
        "def findCountryFuzzy(country):\n",
        "    try:\n",
        "        result = pycountry.countries.search_fuzzy(country)\n",
        "        print(result)\n",
        "        return result[0].alpha_3\n",
        "    except:\n",
        "        return (\"Unknown\")\n",
        "\n",
        "findCountryUDF = udf(findCountryFuzzy, StringType())\n",
        "rating_df_spark = rating_df_spark.withColumn(\"country\", findCountryUDF(col(\"country\")))\n",
        "\n",
        "rating_df_spark.show()"
      ]
    },
    {
      "cell_type": "code",
      "execution_count": null,
      "metadata": {
        "colab": {
          "background_save": true
        },
        "id": "CbnqHlWQs3qP",
        "outputId": "557a83b7-50b3-418c-9909-225b8066a77e"
      },
      "outputs": [
        {
          "name": "stdout",
          "output_type": "stream",
          "text": [
            "root\n",
            " |-- customerid: string (nullable = true)\n",
            " |-- rating: float (nullable = true)\n",
            " |-- city: string (nullable = true)\n",
            " |-- state: string (nullable = true)\n",
            " |-- country: string (nullable = true)\n",
            "\n"
          ]
        }
      ],
      "source": [
        "rating_schema = StructType([\n",
        "    StructField(\"customerid\", StringType(), nullable=False),\n",
        "    StructField(\"rating\", StringType(), nullable=False),\n",
        "    StructField(\"city\", StringType(), nullable=True),\n",
        "    StructField(\"state\", StringType(), nullable=True),\n",
        "    StructField(\"country\",StringType(),nullable=True)\n",
        "])\n",
        "\n",
        "\n",
        "rating_df_spark = rating_df_spark.withColumn(\"rating\", col(\"rating\").cast(FloatType()))\n",
        "\n",
        "\n",
        "rating_df_spark = rating_df_spark.dropna(subset=['rating'])\n",
        "rating_df_spark = rating_df_spark.select(rating_schema.fieldNames())\n",
        "\n",
        "rating_df_spark.printSchema()"
      ]
    },
    {
      "cell_type": "code",
      "execution_count": null,
      "metadata": {
        "id": "qwjPQipM6rGE"
      },
      "outputs": [],
      "source": [
        "rating_df_spark = rating_df_spark.withColumn(\"city\", trim(col(\"city\")))\n",
        "rating_df_spark = rating_df_spark.withColumn(\"state\", trim(col(\"state\")))"
      ]
    },
    {
      "cell_type": "code",
      "execution_count": null,
      "metadata": {
        "id": "jQ7G-7KlgZHA"
      },
      "outputs": [],
      "source": [
        "output_path = \"/content/drive/MyDrive/BDA spark witty/rating_df.csv\"\n",
        "rating_df_spark.coalesce(1).write.mode(\"overwrite\").csv(output_path, header=True)\n",
        "rating_df_spark.show()"
      ]
    }
  ],
  "metadata": {
    "colab": {
      "provenance": []
    },
    "kernelspec": {
      "display_name": "Python 3",
      "name": "python3"
    },
    "language_info": {
      "name": "python"
    }
  },
  "nbformat": 4,
  "nbformat_minor": 0
}